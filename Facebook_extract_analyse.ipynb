{
  "nbformat": 4,
  "nbformat_minor": 0,
  "metadata": {
    "colab": {
      "name": "Facebook_extract_analyse.ipynb",
      "provenance": [],
      "authorship_tag": "ABX9TyMW5klHFwWB2XKJMQSaCJuq",
      "include_colab_link": true
    },
    "kernelspec": {
      "name": "python3",
      "display_name": "Python 3"
    },
    "language_info": {
      "name": "python"
    }
  },
  "cells": [
    {
      "cell_type": "markdown",
      "metadata": {
        "id": "view-in-github",
        "colab_type": "text"
      },
      "source": [
        "<a href=\"https://colab.research.google.com/github/FelixEbenezer/Facebook_Analyse-et-extraction-de-donnees/blob/main/Facebook_extract_analyse.ipynb\" target=\"_parent\"><img src=\"https://colab.research.google.com/assets/colab-badge.svg\" alt=\"Open In Colab\"/></a>"
      ]
    },
    {
      "cell_type": "code",
      "execution_count": null,
      "metadata": {
        "id": "2VubkPnv1_QV"
      },
      "outputs": [],
      "source": [
        ""
      ]
    }
  ]
}